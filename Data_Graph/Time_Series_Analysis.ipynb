import pandas as pd
import matplotlib.pyplot as plt

def compare_rate_and_price(bank_rate_file, house_price_file):
    # Load CSV file and reformat as originals contain metadata (currently done manually). Data: 01-2000 to today()
    bank_rate_data = pd.read_csv(bank_rate_file, parse_dates=['Date']) #https://www.bankofcanada.ca/rates/indicators/key-variables/policy-instrument/#over
    house_price_data = pd.read_csv(house_price_file, parse_dates=['Date']) #https://www150.statcan.gc.ca/t1/tbl1/en/tv.action?pid=1810020501

    # Aggregating the observations by month using the average. House Price Index data comes in monthly, Bank Rate is a daily feed
    bank_rate_data['Month'] = bank_rate_data['Date'].dt.to_period('M')
    bank_rate_monthly = bank_rate_data.groupby('Month')['Rate'].mean().reset_index()
    bank_rate_monthly['Date'] = bank_rate_monthly['Month'].dt.to_timestamp()
    bank_rate_monthly = bank_rate_monthly[['Date', 'Rate']]
    
    # Calculating the month-over-month change with respect to the previous month for the Bank Rate
    bank_rate_monthly['Bank Rate Change'] = bank_rate_monthly['Rate'].pct_change()

    # Removing the first row from the bank_rate_monthly DataFrame.
    bank_rate_monthly_filtered = bank_rate_monthly.iloc[1:].reset_index(drop=True)

    # Calculating the month-over-month percentage change for the "House only" column in the House Price data
    house_price_data['House Price Change'] = house_price_data['House only'].pct_change()

    # Removing the first row, as it contains a NaN value for the percentage change
    house_price_data_filtered = house_price_data.iloc[1:].reset_index(drop=True)

    # Joining the two datasets by the Date column
    final_combined_data = pd.merge(bank_rate_monthly_filtered, house_price_data_filtered[['Date', 'House only', 'House Price Change']], on='Date', how='inner')
    print(final_combined_data.head())

    # Plotting the "Bank Rate Change" and "House Price Change" from the combined data
    plt.figure(figsize=(15, 6))
    plt.plot(final_combined_data['Date'], final_combined_data['Bank Rate Change'], label='Bank Rate Change (%)', color='blue')
    plt.plot(final_combined_data['Date'], final_combined_data['House Price Change'], label='House Price Change (%)', color='red')
    plt.xlabel('Date')
    plt.ylabel('Month-over-Month Change (%)')
    plt.title('Comparison of Bank Rate and House Price Changes (Month-over-Month)')
    plt.legend()
    plt.grid(True)
    plt.show()

# Function accepts input files for Bank Rate and House Price CSVs
compare_rate_and_price('./data/Bank_Rate.csv', './data/House_Price.csv')
